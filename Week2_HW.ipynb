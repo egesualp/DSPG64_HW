{
 "cells": [
  {
   "cell_type": "markdown",
   "metadata": {},
   "source": [
    "# Week 2"
   ]
  },
  {
   "cell_type": "markdown",
   "metadata": {},
   "source": [
    "## Question 1"
   ]
  },
  {
   "cell_type": "code",
   "execution_count": 7,
   "metadata": {},
   "outputs": [
    {
     "data": {
      "text/plain": [
       "11"
      ]
     },
     "execution_count": 7,
     "metadata": {},
     "output_type": "execute_result"
    }
   ],
   "source": [
    "M=[[11,12,13,14],[21,22,23,24],[31,32,33,34]]\n",
    "M[0][-4]"
   ]
  },
  {
   "cell_type": "code",
   "execution_count": 2,
   "metadata": {},
   "outputs": [
    {
     "name": "stdout",
     "output_type": "stream",
     "text": [
      "[[12, 11, 13, 14], [22, 21, 23, 24], [32, 31, 33, 34]]\n"
     ]
    }
   ],
   "source": [
    "for x in M:\n",
    "    a=x[0]\n",
    "    x[0]=x[1]\n",
    "    x[1]=a\n",
    "\n",
    "print(M)"
   ]
  },
  {
   "cell_type": "code",
   "execution_count": 2,
   "metadata": {},
   "outputs": [
    {
     "name": "stdout",
     "output_type": "stream",
     "text": [
      "[[12, 11, 13, 14], [22, 21, 23, 24], [32, 31, 33, 34]]\n"
     ]
    }
   ],
   "source": [
    "# Other solution 1\n",
    "\n",
    "for i in range(len(M)):\n",
    "    M[i][0], M[i][1] = M[i][1], M[i][0]\n",
    "print(M)"
   ]
  },
  {
   "cell_type": "code",
   "execution_count": 4,
   "metadata": {},
   "outputs": [
    {
     "name": "stdout",
     "output_type": "stream",
     "text": [
      "[[12 11 13 14]\n",
      " [22 21 23 24]\n",
      " [32 31 33 34]]\n"
     ]
    }
   ],
   "source": [
    "# Other solution 2\n",
    "\n",
    "import numpy as np\n",
    "arr=np.array(M)\n",
    "arr[:,[0,1]] = arr[:,[1,0]]\n",
    "print(arr)"
   ]
  },
  {
   "cell_type": "markdown",
   "metadata": {},
   "source": [
    "## Question 2"
   ]
  },
  {
   "cell_type": "code",
   "execution_count": 10,
   "metadata": {},
   "outputs": [],
   "source": [
    "M=[[0,3,2,4], [2,7,5,9], [6,1,2,3]]"
   ]
  },
  {
   "cell_type": "code",
   "execution_count": 4,
   "metadata": {},
   "outputs": [
    {
     "name": "stdout",
     "output_type": "stream",
     "text": [
      "(1, 3)\n",
      "9\n"
     ]
    }
   ],
   "source": [
    "maximal=M[0][0]\n",
    "for x in range(len(M)):\n",
    "    for y in range(len(M[x])):\n",
    "        if M[x][y] > maximal:\n",
    "            maximal=M[x][y]\n",
    "            a=x\n",
    "            b=y\n",
    "print((a, b))\n",
    "print(maximal)"
   ]
  },
  {
   "cell_type": "code",
   "execution_count": 16,
   "metadata": {},
   "outputs": [
    {
     "name": "stdout",
     "output_type": "stream",
     "text": [
      "(1, 3)\n"
     ]
    }
   ],
   "source": [
    "# Other solution 1\n",
    "\n",
    "arr=np.array(M)\n",
    "result=np.where(arr==np.amax(arr))\n",
    "coordinates=tuple(zip(result[0], result[1]))\n",
    "\n",
    "for coord in coordinates:\n",
    "    print(coord)"
   ]
  },
  {
   "cell_type": "markdown",
   "metadata": {},
   "source": [
    "## Question 3"
   ]
  },
  {
   "cell_type": "code",
   "execution_count": 5,
   "metadata": {},
   "outputs": [
    {
     "name": "stdout",
     "output_type": "stream",
     "text": [
      "6\n"
     ]
    }
   ],
   "source": [
    "list_1 = [5, 3, 3, 10, 40]\n",
    "list_2 = [40, 3, 40, 1, 2]\n",
    "unique=[]\n",
    "\n",
    "for i in range(len(list_1)):\n",
    "    a=list_1[i]\n",
    "    b=list_2[i]\n",
    "    if a not in unique:\n",
    "        unique.append(a)\n",
    "    if b not in unique:\n",
    "        unique.append(b)\n",
    "        \n",
    "print(len(unique))"
   ]
  },
  {
   "cell_type": "markdown",
   "metadata": {},
   "source": [
    "## Question 4 "
   ]
  },
  {
   "cell_type": "code",
   "execution_count": 9,
   "metadata": {},
   "outputs": [],
   "source": [
    "students = {\"Jane\":{\"grade\":90,\"student_number\":4012}, \n",
    "          \"Pat\":{\"grade\":81,\"student_number\":4052},\n",
    "          \"Denis\":{\"grade\":70,\"student_number\":4089},\n",
    "          \"Max\":{\"grade\":72,\"student_number\":4322},\n",
    "          \"Lara\":{\"grade\":74,\"student_number\":4042}}"
   ]
  },
  {
   "cell_type": "code",
   "execution_count": 10,
   "metadata": {},
   "outputs": [],
   "source": [
    "# Method without numpy\n",
    "\n",
    "student_name=list(students.keys())\n",
    "\n",
    "grades=0\n",
    "for st in range(len(student_name)):\n",
    "    grades+=list(students.values())[st]['grade']\n",
    "    \n",
    "mean=grades/len(student_name)"
   ]
  },
  {
   "cell_type": "code",
   "execution_count": 43,
   "metadata": {},
   "outputs": [],
   "source": [
    "# Method with numpy\n",
    "\n",
    "import numpy as np\n",
    "mean_grade=np.mean([i['grade'] for i in students.values()])"
   ]
  },
  {
   "cell_type": "code",
   "execution_count": 11,
   "metadata": {},
   "outputs": [
    {
     "name": "stdout",
     "output_type": "stream",
     "text": [
      "Grade(s) of Jane Pat are above the average.\n",
      "Grade(s) of Denis Max Lara are below the average.\n",
      "CPU times: user 195 µs, sys: 86 µs, total: 281 µs\n",
      "Wall time: 217 µs\n"
     ]
    }
   ],
   "source": [
    "%%time\n",
    "above=[['above'],[]]\n",
    "equal=[['equal'],[]]\n",
    "below=[['below'],[]]\n",
    "gradesphrases=[above, equal, below]\n",
    "\n",
    "for student in student_name:\n",
    "    if students[student]['grade']>mean:\n",
    "        above[1].append(student)\n",
    "    elif students[student]['grade']==mean:\n",
    "        equal[1].append(student)\n",
    "    else:\n",
    "        below[1].append(student)\n",
    "\n",
    "# phrases with 'is' & 'are'\n",
    "\n",
    "for level in gradesphrases:\n",
    "    phrase=\"Grade(s) of \"\n",
    "    if len(level[1])>1:\n",
    "        for student in level[1]:\n",
    "            phrase+=student + ' '\n",
    "        print(phrase + \"are \" + level[0][0] + \" the average.\")\n",
    "    if len(level[1])==1:\n",
    "        for student in level[1]:\n",
    "            print(phrase + student + \"is \" + level[0][0] + \"the average.\")"
   ]
  },
  {
   "cell_type": "code",
   "execution_count": 45,
   "metadata": {},
   "outputs": [
    {
     "data": {
      "text/plain": [
       "[90, 81, 70, 72, 74]"
      ]
     },
     "execution_count": 45,
     "metadata": {},
     "output_type": "execute_result"
    }
   ],
   "source": [
    "# Other solution 1\n",
    "\n",
    "L1=[]\n",
    "\n",
    "for key, value in students.items():\n",
    "    L1.append(value)\n",
    "\n",
    "L1\n",
    "\n",
    "allgrades=[i['grade'] for i in L1 if 'grade' in i]\n",
    "allgrades"
   ]
  },
  {
   "cell_type": "code",
   "execution_count": 46,
   "metadata": {},
   "outputs": [
    {
     "name": "stdout",
     "output_type": "stream",
     "text": [
      "Mean grade is 77.4\n"
     ]
    }
   ],
   "source": [
    "mean=0\n",
    "for i in allgrades:\n",
    "    mean+=i\n",
    "mean=mean/len(allgrades)\n",
    "print(\"Mean grade is \" + str(mean))"
   ]
  },
  {
   "cell_type": "code",
   "execution_count": 47,
   "metadata": {},
   "outputs": [
    {
     "name": "stdout",
     "output_type": "stream",
     "text": [
      "Grade of Jane is above the average.\n",
      "Grade of Pat is above the average.\n",
      "Grade of Denis is below the average.\n",
      "Grade of Max is below the average.\n",
      "Grade of Lara is below the average.\n"
     ]
    }
   ],
   "source": [
    "zipped=dict(zip(students.keys(), allgrades))\n",
    "\n",
    "for key in zipped:\n",
    "    if zipped[key]>mean:\n",
    "        print(\"Grade of \" + str(key) + \" is above the average.\")\n",
    "    elif zipped[key]==mean:\n",
    "        print(\"Grade of \" + str(key) + \" is equal the average.\")\n",
    "    else:\n",
    "        print(\"Grade of \" + str(key) + \" is below the average.\")"
   ]
  },
  {
   "cell_type": "markdown",
   "metadata": {},
   "source": [
    "## Question 5"
   ]
  },
  {
   "cell_type": "code",
   "execution_count": 8,
   "metadata": {},
   "outputs": [
    {
     "name": "stdout",
     "output_type": "stream",
     "text": [
      "200 tickets remaining\n",
      "How many do you want to buy? /n Minimum 1, Maximum 410\n",
      "10\n",
      "190 tickets remaining\n",
      "How many do you want to buy? /n Minimum 1, Maximum 420\n",
      "20\n",
      "170 tickets remaining\n",
      "How many do you want to buy? /n Minimum 1, Maximum 440\n",
      "40\n",
      "130 tickets remaining\n",
      "How many do you want to buy? /n Minimum 1, Maximum 430\n",
      "30\n",
      "100 tickets remaining\n",
      "How many do you want to buy? /n Minimum 1, Maximum 420\n",
      "20\n",
      "80 tickets remaining\n",
      "How many do you want to buy? /n Minimum 1, Maximum 410\n",
      "10\n",
      "70 tickets remaining\n",
      "How many do you want to buy? /n Minimum 1, Maximum 440\n",
      "40\n",
      "30 tickets remaining\n",
      "How many do you want to buy? /n Minimum 1, Maximum 430\n",
      "30\n",
      "8sales transactions\n",
      "CPU times: user 26.4 ms, sys: 9.81 ms, total: 36.3 ms\n",
      "Wall time: 10.3 s\n"
     ]
    }
   ],
   "source": [
    "remain=200\n",
    "transaction=0\n",
    "while remain>0:\n",
    "    print(str(remain) + \" tickets remaining\")\n",
    "    x=input('How many do you want to buy? /n Minimum 1, Maximum 4')\n",
    "    print(x)\n",
    "    transaction+=1\n",
    "    remain=remain-int(x)\n",
    "print(str(transaction) + \"sales transactions\")"
   ]
  },
  {
   "cell_type": "code",
   "execution_count": null,
   "metadata": {},
   "outputs": [],
   "source": []
  }
 ],
 "metadata": {
  "kernelspec": {
   "display_name": "Python 3",
   "language": "python",
   "name": "python3"
  },
  "language_info": {
   "codemirror_mode": {
    "name": "ipython",
    "version": 3
   },
   "file_extension": ".py",
   "mimetype": "text/x-python",
   "name": "python",
   "nbconvert_exporter": "python",
   "pygments_lexer": "ipython3",
   "version": "3.8.5"
  }
 },
 "nbformat": 4,
 "nbformat_minor": 2
}
